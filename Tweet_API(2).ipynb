{
  "nbformat": 4,
  "nbformat_minor": 0,
  "metadata": {
    "kernelspec": {
      "name": "python3",
      "display_name": "Python 3"
    },
    "colab": {
      "provenance": []
    }
  },
  "cells": [
    {
      "cell_type": "markdown",
      "metadata": {
        "id": "v4bkwQoHr9i3"
      },
      "source": [
        "# Laboratory 1: setting up Twitter API"
      ]
    },
    {
      "cell_type": "markdown",
      "metadata": {
        "id": "21NaYdhRr9i7"
      },
      "source": [
        "## Set up"
      ]
    },
    {
      "cell_type": "code",
      "metadata": {
        "id": "gNFOaZPIxyS2"
      },
      "source": [
        "import os\n",
        "os.environ['TOKEN'] = #BEARER TOKEN HERE"
      ],
      "execution_count": null,
      "outputs": []
    },
    {
      "cell_type": "code",
      "metadata": {
        "id": "GjUQcJpfrecr"
      },
      "source": [
        "from google.colab import drive\n",
        "drive.mount('/content/drive')"
      ],
      "execution_count": null,
      "outputs": []
    },
    {
      "cell_type": "markdown",
      "metadata": {
        "id": "Nwy6MeGur9i-"
      },
      "source": [
        "### Import libraries"
      ]
    },
    {
      "cell_type": "code",
      "metadata": {
        "id": "8ge5EaEur9jA"
      },
      "source": [
        "import requests \n",
        "import pandas as pd \n",
        "import time"
      ],
      "execution_count": null,
      "outputs": []
    },
    {
      "cell_type": "markdown",
      "metadata": {
        "id": "OrXv204vyooY"
      },
      "source": [
        "If you need to download a library, use the following code, just specify the name of the library you need (here we downloaded emoji library)"
      ]
    },
    {
      "cell_type": "code",
      "metadata": {
        "id": "N6RYD_oCoJ3C"
      },
      "source": [
        "!pip install emoji"
      ],
      "execution_count": null,
      "outputs": []
    },
    {
      "cell_type": "markdown",
      "metadata": {
        "id": "IYIP9Ta4r9jR"
      },
      "source": [
        "### Set up headers"
      ]
    },
    {
      "cell_type": "code",
      "metadata": {
        "id": "pKWoILn7AMzj"
      },
      "source": [
        "def create_headers(bearer_token):\n",
        "    headers = {\"Authorization\": \"Bearer {}\".format(bearer_token)}\n",
        "    return headers"
      ],
      "execution_count": null,
      "outputs": []
    },
    {
      "cell_type": "code",
      "metadata": {
        "id": "W_buwaoAyPLM"
      },
      "source": [
        "headers = create_headers(os.environ['TOKEN'])"
      ],
      "execution_count": null,
      "outputs": []
    },
    {
      "cell_type": "markdown",
      "metadata": {
        "id": "Q8Pb9MXWr9jd"
      },
      "source": [
        "## Download data"
      ]
    },
    {
      "cell_type": "markdown",
      "metadata": {
        "id": "KUk4LQkEzbqg"
      },
      "source": [
        "Date format and other parameter explanations available here:\n",
        "\n",
        "https://developer.twitter.com/en/docs/twitter-api/premium/search-api/api-reference/premium-search#DataParameters"
      ]
    },
    {
      "cell_type": "code",
      "metadata": {
        "id": "90Ukr82M_N39"
      },
      "source": [
        "def create_url(keyword, start_date, end_date, env_label, endpoint=\"fullarchive\"):\n",
        "    \n",
        "    search_url = \"https://api.twitter.com/1.1/tweets/search/{}.json\".format(endpoint+\"/\"+env_label) \n",
        "\n",
        "    #change params based on the endpoint you are using\n",
        "    query_params = {'query': keyword, 'fromDate': start_date, 'toDate': end_date}\n",
        "    return (search_url, query_params)"
      ],
      "execution_count": null,
      "outputs": []
    },
    {
      "cell_type": "code",
      "metadata": {
        "id": "AJD9pEHwAk84"
      },
      "source": [
        "def connect_to_endpoint(url, headers, params, next_token = None):\n",
        "    if next_token is not None and next_token != '':\n",
        "      params['next'] = next_token\n",
        "    response = requests.request(\"GET\", url, headers = headers, params = params)\n",
        "    if response.status_code != 200:\n",
        "        raise Exception(response.status_code, response.text)\n",
        "    return response.json()"
      ],
      "execution_count": null,
      "outputs": []
    },
    {
      "cell_type": "code",
      "metadata": {
        "id": "2Jgw8uZd0K5u"
      },
      "source": [
        "def get_data(keyword, start_time, end_time, next_token, env_label, endpoint):\n",
        "  results = []\n",
        "  \n",
        "  while next_token is not None:\n",
        "    ##this part here for one request\n",
        "    url = create_url(keyword, start_time,end_time, env_label, endpoint)\n",
        "    json_response = connect_to_endpoint(url[0], headers, url[1], next_token)\n",
        "    \n",
        "    if \"results\" in json_response:\n",
        "      results.extend(json_response[\"results\"])\n",
        "    ### up until this point\n",
        "    if \"next\" in json_response:\n",
        "        next_token = json_response[\"next\"]\n",
        "    else:\n",
        "      next_token = None\n",
        "    time.sleep(1)\n",
        "  \n",
        "  return results"
      ],
      "execution_count": null,
      "outputs": []
    },
    {
      "cell_type": "code",
      "metadata": {
        "id": "IyXiwYZCl8H3"
      },
      "source": [
        "def get_single_response(keyword, start_time, end_time, env_label, endpoint):\n",
        "  #endpoint can be fullarchive or 30day\n",
        "  results = []\n",
        "  url = create_url(keyword, start_time,end_time, env_label, endpoint)\n",
        "  json_response = connect_to_endpoint(url[0], headers, url[1])\n",
        "  \n",
        "  if \"results\" in json_response:\n",
        "    results.extend(json_response[\"results\"])\n",
        "  \n",
        "  return results"
      ],
      "execution_count": null,
      "outputs": []
    },
    {
      "cell_type": "code",
      "metadata": {
        "id": "gSt4xdwfmHcd"
      },
      "source": [
        "#if you are using the 30day endpoint, make sure you specify dates that are within 30day range!\n",
        "tweets = get_single_response(\"COVID19 lang:en\", \"202110080000\", \"202111070000\", \"30day\", \"30day\")"
      ],
      "execution_count": null,
      "outputs": []
    },
    {
      "cell_type": "markdown",
      "metadata": {
        "id": "2tQoczST6dQ8"
      },
      "source": [
        "### Inspect data"
      ]
    },
    {
      "cell_type": "code",
      "metadata": {
        "id": "qcWGG5Rz39Gr"
      },
      "source": [
        "len(tweets)"
      ],
      "execution_count": null,
      "outputs": []
    },
    {
      "cell_type": "code",
      "metadata": {
        "id": "Qy1AZe4O4T7C"
      },
      "source": [
        "tweets[0]"
      ],
      "execution_count": null,
      "outputs": []
    },
    {
      "cell_type": "markdown",
      "metadata": {
        "id": "nUGfn_G3qcLV"
      },
      "source": [
        "# Laboratory 2: working with Twitter data"
      ]
    },
    {
      "cell_type": "markdown",
      "metadata": {
        "id": "-6mSYSqKqh7f"
      },
      "source": [
        "First, we want to convert the data into Pandas DataFrame. This format enables us easy manipulation of the data as well as saving/loading data.\n",
        "\n",
        "Since we have our tweets saved as a list of dictionaries, we can easily convert it to DataFrame by executing the cell blow."
      ]
    },
    {
      "cell_type": "code",
      "metadata": {
        "id": "u1C940uZnWFA"
      },
      "source": [
        "tweets_df = pd.DataFrame(tweets)"
      ],
      "execution_count": null,
      "outputs": []
    },
    {
      "cell_type": "code",
      "metadata": {
        "id": "3QKr-0nRiXHa"
      },
      "source": [
        "tweets_df"
      ],
      "execution_count": null,
      "outputs": []
    },
    {
      "cell_type": "markdown",
      "metadata": {
        "id": "YVXP-fDrtMae"
      },
      "source": [
        "### Saving the results"
      ]
    },
    {
      "cell_type": "markdown",
      "metadata": {
        "id": "Kmi5SprXrEOM"
      },
      "source": [
        "Once we have our Tweets as a DataFrame it is a good idea to save it on the disk. \n",
        "\n",
        "Be mindful of the fact that the storage of a Colab notebook is deleted everytime runtime is interrupted or restarted, so you need to manually download it to your computer or mount your Google Drive and save it there (this option is unavailable if you're using university's email account for Drive)."
      ]
    },
    {
      "cell_type": "code",
      "metadata": {
        "id": "PqdepSBprmvl"
      },
      "source": [
        "path = \"/content/\" #enter the path to your Drive or leave this as default"
      ],
      "execution_count": null,
      "outputs": []
    },
    {
      "cell_type": "markdown",
      "metadata": {
        "id": "CmtD5-THsUJp"
      },
      "source": [
        "We can save it as a comma-separated values file, which enables opening it in a spreadsheet editor and inspecting it."
      ]
    },
    {
      "cell_type": "code",
      "metadata": {
        "id": "ex1E8v-qrkeh"
      },
      "source": [
        "tweets_df.to_csv(path+\"tweets.csv\", index=False)"
      ],
      "execution_count": null,
      "outputs": []
    },
    {
      "cell_type": "markdown",
      "metadata": {
        "id": "iFcy4tKls7qD"
      },
      "source": [
        "In order to preserve datatypes, we should save it as a parquet or pickle file."
      ]
    },
    {
      "cell_type": "code",
      "metadata": {
        "id": "hUqdVEGksm7n"
      },
      "source": [
        "tweets_df.to_pickle(path+\"tweets.pkl\")"
      ],
      "execution_count": null,
      "outputs": []
    },
    {
      "cell_type": "markdown",
      "metadata": {
        "id": "H02ZoRcGtpaY"
      },
      "source": [
        "### Loading the data"
      ]
    },
    {
      "cell_type": "markdown",
      "metadata": {
        "id": "VWhc-_nNtsnT"
      },
      "source": [
        "If you want to load the results you have previously saved, simply execute the next code, specifying the path to the file.\n",
        "\n",
        "You will need to either upload it to the Colab workspace or copy the path to the file on Drive."
      ]
    },
    {
      "cell_type": "code",
      "metadata": {
        "id": "1LlenT11t_Xp"
      },
      "source": [
        "tweets_df = pd.read_pickle(path+\"tweets.pkl\")"
      ],
      "execution_count": null,
      "outputs": []
    },
    {
      "cell_type": "code",
      "metadata": {
        "id": "h9oHy6KFLC0o"
      },
      "source": [
        "# if tweets are uploaded in colab\n",
        "\n",
        "tweets_df = pd.read_pickle(\"tweets.pkl\")"
      ],
      "execution_count": null,
      "outputs": []
    },
    {
      "cell_type": "code",
      "metadata": {
        "id": "RNgY35TclZC6",
        "colab": {
          "base_uri": "https://localhost:8080/",
          "height": 949
        },
        "outputId": "ad519b7c-2de9-45ef-bd06-69874dd8ae9a"
      },
      "source": [
        "tweets_df"
      ],
      "execution_count": null,
      "outputs": [
        {
          "output_type": "execute_result",
          "data": {
            "text/html": [
              "<div>\n",
              "<style scoped>\n",
              "    .dataframe tbody tr th:only-of-type {\n",
              "        vertical-align: middle;\n",
              "    }\n",
              "\n",
              "    .dataframe tbody tr th {\n",
              "        vertical-align: top;\n",
              "    }\n",
              "\n",
              "    .dataframe thead th {\n",
              "        text-align: right;\n",
              "    }\n",
              "</style>\n",
              "<table border=\"1\" class=\"dataframe\">\n",
              "  <thead>\n",
              "    <tr style=\"text-align: right;\">\n",
              "      <th></th>\n",
              "      <th>created_at</th>\n",
              "      <th>id</th>\n",
              "      <th>id_str</th>\n",
              "      <th>text</th>\n",
              "      <th>source</th>\n",
              "      <th>truncated</th>\n",
              "      <th>in_reply_to_status_id</th>\n",
              "      <th>in_reply_to_status_id_str</th>\n",
              "      <th>in_reply_to_user_id</th>\n",
              "      <th>in_reply_to_user_id_str</th>\n",
              "      <th>in_reply_to_screen_name</th>\n",
              "      <th>user</th>\n",
              "      <th>geo</th>\n",
              "      <th>coordinates</th>\n",
              "      <th>place</th>\n",
              "      <th>contributors</th>\n",
              "      <th>retweeted_status</th>\n",
              "      <th>quoted_status_id</th>\n",
              "      <th>quoted_status_id_str</th>\n",
              "      <th>quoted_status</th>\n",
              "      <th>quoted_status_permalink</th>\n",
              "      <th>is_quote_status</th>\n",
              "      <th>quote_count</th>\n",
              "      <th>reply_count</th>\n",
              "      <th>retweet_count</th>\n",
              "      <th>favorite_count</th>\n",
              "      <th>entities</th>\n",
              "      <th>favorited</th>\n",
              "      <th>retweeted</th>\n",
              "      <th>filter_level</th>\n",
              "      <th>lang</th>\n",
              "      <th>matching_rules</th>\n",
              "      <th>extended_tweet</th>\n",
              "      <th>possibly_sensitive</th>\n",
              "      <th>display_text_range</th>\n",
              "      <th>extended_entities</th>\n",
              "    </tr>\n",
              "  </thead>\n",
              "  <tbody>\n",
              "    <tr>\n",
              "      <th>0</th>\n",
              "      <td>Sat Nov 06 23:59:58 +0000 2021</td>\n",
              "      <td>1457135701732904962</td>\n",
              "      <td>1457135701732904962</td>\n",
              "      <td>RT @mansukhmandviya: Appreciate @Murugan_MoS j...</td>\n",
              "      <td>&lt;a href=\"http://twitter.com/download/android\" ...</td>\n",
              "      <td>False</td>\n",
              "      <td>NaN</td>\n",
              "      <td>None</td>\n",
              "      <td>NaN</td>\n",
              "      <td>None</td>\n",
              "      <td>None</td>\n",
              "      <td>{'id': 1366620482997420034, 'id_str': '1366620...</td>\n",
              "      <td>None</td>\n",
              "      <td>None</td>\n",
              "      <td>None</td>\n",
              "      <td>None</td>\n",
              "      <td>{'created_at': 'Sat Nov 06 16:23:21 +0000 2021...</td>\n",
              "      <td>1.456847e+18</td>\n",
              "      <td>1456847227930890241</td>\n",
              "      <td>{'created_at': 'Sat Nov 06 04:53:40 +0000 2021...</td>\n",
              "      <td>{'url': 'https://t.co/0gTV7O4gcB', 'expanded':...</td>\n",
              "      <td>True</td>\n",
              "      <td>0</td>\n",
              "      <td>0</td>\n",
              "      <td>0</td>\n",
              "      <td>0</td>\n",
              "      <td>{'hashtags': [{'text': 'HarGharDastak', 'indic...</td>\n",
              "      <td>False</td>\n",
              "      <td>False</td>\n",
              "      <td>low</td>\n",
              "      <td>en</td>\n",
              "      <td>[{'tag': None}]</td>\n",
              "      <td>NaN</td>\n",
              "      <td>NaN</td>\n",
              "      <td>NaN</td>\n",
              "      <td>NaN</td>\n",
              "    </tr>\n",
              "    <tr>\n",
              "      <th>1</th>\n",
              "      <td>Sat Nov 06 23:59:57 +0000 2021</td>\n",
              "      <td>1457135697337458691</td>\n",
              "      <td>1457135697337458691</td>\n",
              "      <td>RT @StephenSteglik: Shoutout to @BigBird for n...</td>\n",
              "      <td>&lt;a href=\"http://twitter.com/download/iphone\" r...</td>\n",
              "      <td>False</td>\n",
              "      <td>NaN</td>\n",
              "      <td>None</td>\n",
              "      <td>NaN</td>\n",
              "      <td>None</td>\n",
              "      <td>None</td>\n",
              "      <td>{'id': 38947085, 'id_str': '38947085', 'name':...</td>\n",
              "      <td>None</td>\n",
              "      <td>None</td>\n",
              "      <td>None</td>\n",
              "      <td>None</td>\n",
              "      <td>{'created_at': 'Sat Nov 06 23:59:24 +0000 2021...</td>\n",
              "      <td>1.456972e+18</td>\n",
              "      <td>1456971880666046465</td>\n",
              "      <td>{'created_at': 'Sat Nov 06 13:09:00 +0000 2021...</td>\n",
              "      <td>{'url': 'https://t.co/r58ZIiZC90', 'expanded':...</td>\n",
              "      <td>True</td>\n",
              "      <td>0</td>\n",
              "      <td>0</td>\n",
              "      <td>0</td>\n",
              "      <td>0</td>\n",
              "      <td>{'hashtags': [{'text': 'GetVaccinated', 'indic...</td>\n",
              "      <td>False</td>\n",
              "      <td>False</td>\n",
              "      <td>low</td>\n",
              "      <td>en</td>\n",
              "      <td>[{'tag': None}]</td>\n",
              "      <td>NaN</td>\n",
              "      <td>NaN</td>\n",
              "      <td>NaN</td>\n",
              "      <td>NaN</td>\n",
              "    </tr>\n",
              "    <tr>\n",
              "      <th>2</th>\n",
              "      <td>Sat Nov 06 23:59:56 +0000 2021</td>\n",
              "      <td>1457135694367924227</td>\n",
              "      <td>1457135694367924227</td>\n",
              "      <td>RT @apsmunro: If you hear there have been &amp;gt;...</td>\n",
              "      <td>&lt;a href=\"http://twitter.com/download/iphone\" r...</td>\n",
              "      <td>False</td>\n",
              "      <td>NaN</td>\n",
              "      <td>None</td>\n",
              "      <td>NaN</td>\n",
              "      <td>None</td>\n",
              "      <td>None</td>\n",
              "      <td>{'id': 16078191, 'id_str': '16078191', 'name':...</td>\n",
              "      <td>None</td>\n",
              "      <td>None</td>\n",
              "      <td>None</td>\n",
              "      <td>None</td>\n",
              "      <td>{'created_at': 'Sat Nov 06 12:36:15 +0000 2021...</td>\n",
              "      <td>NaN</td>\n",
              "      <td>NaN</td>\n",
              "      <td>NaN</td>\n",
              "      <td>NaN</td>\n",
              "      <td>False</td>\n",
              "      <td>0</td>\n",
              "      <td>0</td>\n",
              "      <td>0</td>\n",
              "      <td>0</td>\n",
              "      <td>{'hashtags': [], 'urls': [], 'user_mentions': ...</td>\n",
              "      <td>False</td>\n",
              "      <td>False</td>\n",
              "      <td>low</td>\n",
              "      <td>en</td>\n",
              "      <td>[{'tag': None}]</td>\n",
              "      <td>NaN</td>\n",
              "      <td>NaN</td>\n",
              "      <td>NaN</td>\n",
              "      <td>NaN</td>\n",
              "    </tr>\n",
              "    <tr>\n",
              "      <th>3</th>\n",
              "      <td>Sat Nov 06 23:59:55 +0000 2021</td>\n",
              "      <td>1457135690093776899</td>\n",
              "      <td>1457135690093776899</td>\n",
              "      <td>Tonight on CHEK News at 5 p.m. with @JasmineBa...</td>\n",
              "      <td>&lt;a href=\"https://mobile.twitter.com\" rel=\"nofo...</td>\n",
              "      <td>True</td>\n",
              "      <td>NaN</td>\n",
              "      <td>None</td>\n",
              "      <td>NaN</td>\n",
              "      <td>None</td>\n",
              "      <td>None</td>\n",
              "      <td>{'id': 156749387, 'id_str': '156749387', 'name...</td>\n",
              "      <td>None</td>\n",
              "      <td>None</td>\n",
              "      <td>None</td>\n",
              "      <td>None</td>\n",
              "      <td>NaN</td>\n",
              "      <td>NaN</td>\n",
              "      <td>NaN</td>\n",
              "      <td>NaN</td>\n",
              "      <td>NaN</td>\n",
              "      <td>False</td>\n",
              "      <td>0</td>\n",
              "      <td>1</td>\n",
              "      <td>2</td>\n",
              "      <td>2</td>\n",
              "      <td>{'hashtags': [{'text': 'COVID19', 'indices': [...</td>\n",
              "      <td>False</td>\n",
              "      <td>False</td>\n",
              "      <td>low</td>\n",
              "      <td>en</td>\n",
              "      <td>[{'tag': None}]</td>\n",
              "      <td>{'full_text': 'Tonight on CHEK News at 5 p.m. ...</td>\n",
              "      <td>False</td>\n",
              "      <td>NaN</td>\n",
              "      <td>NaN</td>\n",
              "    </tr>\n",
              "    <tr>\n",
              "      <th>4</th>\n",
              "      <td>Sat Nov 06 23:59:51 +0000 2021</td>\n",
              "      <td>1457135673773727748</td>\n",
              "      <td>1457135673773727748</td>\n",
              "      <td>RT @SovernNation: A #COVID19 outbreak among th...</td>\n",
              "      <td>&lt;a href=\"https://about.twitter.com/products/tw...</td>\n",
              "      <td>False</td>\n",
              "      <td>NaN</td>\n",
              "      <td>None</td>\n",
              "      <td>NaN</td>\n",
              "      <td>None</td>\n",
              "      <td>None</td>\n",
              "      <td>{'id': 1295326471821520899, 'id_str': '1295326...</td>\n",
              "      <td>None</td>\n",
              "      <td>None</td>\n",
              "      <td>None</td>\n",
              "      <td>None</td>\n",
              "      <td>{'created_at': 'Sat Nov 06 23:59:33 +0000 2021...</td>\n",
              "      <td>NaN</td>\n",
              "      <td>NaN</td>\n",
              "      <td>NaN</td>\n",
              "      <td>NaN</td>\n",
              "      <td>False</td>\n",
              "      <td>0</td>\n",
              "      <td>0</td>\n",
              "      <td>0</td>\n",
              "      <td>0</td>\n",
              "      <td>{'hashtags': [{'text': 'COVID19', 'indices': [...</td>\n",
              "      <td>False</td>\n",
              "      <td>False</td>\n",
              "      <td>low</td>\n",
              "      <td>en</td>\n",
              "      <td>[{'tag': None}]</td>\n",
              "      <td>NaN</td>\n",
              "      <td>NaN</td>\n",
              "      <td>NaN</td>\n",
              "      <td>NaN</td>\n",
              "    </tr>\n",
              "    <tr>\n",
              "      <th>...</th>\n",
              "      <td>...</td>\n",
              "      <td>...</td>\n",
              "      <td>...</td>\n",
              "      <td>...</td>\n",
              "      <td>...</td>\n",
              "      <td>...</td>\n",
              "      <td>...</td>\n",
              "      <td>...</td>\n",
              "      <td>...</td>\n",
              "      <td>...</td>\n",
              "      <td>...</td>\n",
              "      <td>...</td>\n",
              "      <td>...</td>\n",
              "      <td>...</td>\n",
              "      <td>...</td>\n",
              "      <td>...</td>\n",
              "      <td>...</td>\n",
              "      <td>...</td>\n",
              "      <td>...</td>\n",
              "      <td>...</td>\n",
              "      <td>...</td>\n",
              "      <td>...</td>\n",
              "      <td>...</td>\n",
              "      <td>...</td>\n",
              "      <td>...</td>\n",
              "      <td>...</td>\n",
              "      <td>...</td>\n",
              "      <td>...</td>\n",
              "      <td>...</td>\n",
              "      <td>...</td>\n",
              "      <td>...</td>\n",
              "      <td>...</td>\n",
              "      <td>...</td>\n",
              "      <td>...</td>\n",
              "      <td>...</td>\n",
              "      <td>...</td>\n",
              "    </tr>\n",
              "    <tr>\n",
              "      <th>95</th>\n",
              "      <td>Sat Nov 06 23:55:43 +0000 2021</td>\n",
              "      <td>1457134631937929221</td>\n",
              "      <td>1457134631937929221</td>\n",
              "      <td>RT @disclosetv: NEW - Sesame Street with Ameri...</td>\n",
              "      <td>&lt;a href=\"http://twitter.com/download/iphone\" r...</td>\n",
              "      <td>False</td>\n",
              "      <td>NaN</td>\n",
              "      <td>None</td>\n",
              "      <td>NaN</td>\n",
              "      <td>None</td>\n",
              "      <td>None</td>\n",
              "      <td>{'id': 3233164824, 'id_str': '3233164824', 'na...</td>\n",
              "      <td>None</td>\n",
              "      <td>None</td>\n",
              "      <td>None</td>\n",
              "      <td>None</td>\n",
              "      <td>{'created_at': 'Sat Nov 06 12:45:38 +0000 2021...</td>\n",
              "      <td>NaN</td>\n",
              "      <td>NaN</td>\n",
              "      <td>NaN</td>\n",
              "      <td>NaN</td>\n",
              "      <td>False</td>\n",
              "      <td>0</td>\n",
              "      <td>0</td>\n",
              "      <td>0</td>\n",
              "      <td>0</td>\n",
              "      <td>{'hashtags': [{'text': 'COVID19', 'indices': [...</td>\n",
              "      <td>False</td>\n",
              "      <td>False</td>\n",
              "      <td>low</td>\n",
              "      <td>en</td>\n",
              "      <td>[{'tag': None}]</td>\n",
              "      <td>NaN</td>\n",
              "      <td>False</td>\n",
              "      <td>NaN</td>\n",
              "      <td>{'media': [{'id': 1456965743774474244, 'id_str...</td>\n",
              "    </tr>\n",
              "    <tr>\n",
              "      <th>96</th>\n",
              "      <td>Sat Nov 06 23:55:43 +0000 2021</td>\n",
              "      <td>1457134631392665602</td>\n",
              "      <td>1457134631392665602</td>\n",
              "      <td>RT @UNICEFIndia: As we celebrate the #COVID19 ...</td>\n",
              "      <td>&lt;a href=\"http://twitter.com/download/android\" ...</td>\n",
              "      <td>False</td>\n",
              "      <td>NaN</td>\n",
              "      <td>None</td>\n",
              "      <td>NaN</td>\n",
              "      <td>None</td>\n",
              "      <td>None</td>\n",
              "      <td>{'id': 1407216867551244288, 'id_str': '1407216...</td>\n",
              "      <td>None</td>\n",
              "      <td>None</td>\n",
              "      <td>None</td>\n",
              "      <td>None</td>\n",
              "      <td>{'created_at': 'Tue Oct 19 03:30:00 +0000 2021...</td>\n",
              "      <td>NaN</td>\n",
              "      <td>NaN</td>\n",
              "      <td>NaN</td>\n",
              "      <td>NaN</td>\n",
              "      <td>False</td>\n",
              "      <td>0</td>\n",
              "      <td>0</td>\n",
              "      <td>0</td>\n",
              "      <td>0</td>\n",
              "      <td>{'hashtags': [{'text': 'COVID19', 'indices': [...</td>\n",
              "      <td>False</td>\n",
              "      <td>False</td>\n",
              "      <td>low</td>\n",
              "      <td>en</td>\n",
              "      <td>[{'tag': None}]</td>\n",
              "      <td>NaN</td>\n",
              "      <td>NaN</td>\n",
              "      <td>NaN</td>\n",
              "      <td>NaN</td>\n",
              "    </tr>\n",
              "    <tr>\n",
              "      <th>97</th>\n",
              "      <td>Sat Nov 06 23:55:38 +0000 2021</td>\n",
              "      <td>1457134610958139398</td>\n",
              "      <td>1457134610958139398</td>\n",
              "      <td>RT @BulliedAutistic: @Tammlin1963 You can't tr...</td>\n",
              "      <td>&lt;a href=\"http://twitter.com/download/android\" ...</td>\n",
              "      <td>False</td>\n",
              "      <td>NaN</td>\n",
              "      <td>None</td>\n",
              "      <td>NaN</td>\n",
              "      <td>None</td>\n",
              "      <td>None</td>\n",
              "      <td>{'id': 1213639608304431104, 'id_str': '1213639...</td>\n",
              "      <td>None</td>\n",
              "      <td>None</td>\n",
              "      <td>None</td>\n",
              "      <td>None</td>\n",
              "      <td>{'created_at': 'Sat Nov 06 23:55:27 +0000 2021...</td>\n",
              "      <td>NaN</td>\n",
              "      <td>NaN</td>\n",
              "      <td>NaN</td>\n",
              "      <td>NaN</td>\n",
              "      <td>False</td>\n",
              "      <td>0</td>\n",
              "      <td>0</td>\n",
              "      <td>0</td>\n",
              "      <td>0</td>\n",
              "      <td>{'hashtags': [], 'urls': [], 'user_mentions': ...</td>\n",
              "      <td>False</td>\n",
              "      <td>False</td>\n",
              "      <td>low</td>\n",
              "      <td>en</td>\n",
              "      <td>[{'tag': None}]</td>\n",
              "      <td>NaN</td>\n",
              "      <td>NaN</td>\n",
              "      <td>NaN</td>\n",
              "      <td>NaN</td>\n",
              "    </tr>\n",
              "    <tr>\n",
              "      <th>98</th>\n",
              "      <td>Sat Nov 06 23:55:35 +0000 2021</td>\n",
              "      <td>1457134599432282114</td>\n",
              "      <td>1457134599432282114</td>\n",
              "      <td>@CoxeAnne @LovesBulldawgs @AnarchistGolden @Do...</td>\n",
              "      <td>&lt;a href=\"http://twitter.com/download/android\" ...</td>\n",
              "      <td>True</td>\n",
              "      <td>1.457113e+18</td>\n",
              "      <td>1457113186658705409</td>\n",
              "      <td>1.163548e+18</td>\n",
              "      <td>1163548191913988096</td>\n",
              "      <td>CoxeAnne</td>\n",
              "      <td>{'id': 1368049995534974976, 'id_str': '1368049...</td>\n",
              "      <td>None</td>\n",
              "      <td>None</td>\n",
              "      <td>None</td>\n",
              "      <td>None</td>\n",
              "      <td>NaN</td>\n",
              "      <td>NaN</td>\n",
              "      <td>NaN</td>\n",
              "      <td>NaN</td>\n",
              "      <td>NaN</td>\n",
              "      <td>False</td>\n",
              "      <td>0</td>\n",
              "      <td>0</td>\n",
              "      <td>0</td>\n",
              "      <td>0</td>\n",
              "      <td>{'hashtags': [], 'urls': [{'url': 'https://t.c...</td>\n",
              "      <td>False</td>\n",
              "      <td>False</td>\n",
              "      <td>low</td>\n",
              "      <td>en</td>\n",
              "      <td>[{'tag': None}]</td>\n",
              "      <td>{'full_text': '@CoxeAnne @LovesBulldawgs @Anar...</td>\n",
              "      <td>NaN</td>\n",
              "      <td>[95, 140]</td>\n",
              "      <td>NaN</td>\n",
              "    </tr>\n",
              "    <tr>\n",
              "      <th>99</th>\n",
              "      <td>Sat Nov 06 23:55:31 +0000 2021</td>\n",
              "      <td>1457134584735453194</td>\n",
              "      <td>1457134584735453194</td>\n",
              "      <td>RT @BernieSpofforth: Never forget this day. \\n...</td>\n",
              "      <td>&lt;a href=\"http://twitter.com/#!/download/ipad\" ...</td>\n",
              "      <td>False</td>\n",
              "      <td>NaN</td>\n",
              "      <td>None</td>\n",
              "      <td>NaN</td>\n",
              "      <td>None</td>\n",
              "      <td>None</td>\n",
              "      <td>{'id': 4041137254, 'id_str': '4041137254', 'na...</td>\n",
              "      <td>None</td>\n",
              "      <td>None</td>\n",
              "      <td>None</td>\n",
              "      <td>None</td>\n",
              "      <td>{'created_at': 'Sat Nov 06 11:34:01 +0000 2021...</td>\n",
              "      <td>NaN</td>\n",
              "      <td>NaN</td>\n",
              "      <td>NaN</td>\n",
              "      <td>NaN</td>\n",
              "      <td>False</td>\n",
              "      <td>0</td>\n",
              "      <td>0</td>\n",
              "      <td>0</td>\n",
              "      <td>0</td>\n",
              "      <td>{'hashtags': [], 'urls': [], 'user_mentions': ...</td>\n",
              "      <td>False</td>\n",
              "      <td>False</td>\n",
              "      <td>low</td>\n",
              "      <td>en</td>\n",
              "      <td>[{'tag': None}]</td>\n",
              "      <td>NaN</td>\n",
              "      <td>NaN</td>\n",
              "      <td>NaN</td>\n",
              "      <td>NaN</td>\n",
              "    </tr>\n",
              "  </tbody>\n",
              "</table>\n",
              "<p>100 rows × 36 columns</p>\n",
              "</div>"
            ],
            "text/plain": [
              "                        created_at  ...                                  extended_entities\n",
              "0   Sat Nov 06 23:59:58 +0000 2021  ...                                                NaN\n",
              "1   Sat Nov 06 23:59:57 +0000 2021  ...                                                NaN\n",
              "2   Sat Nov 06 23:59:56 +0000 2021  ...                                                NaN\n",
              "3   Sat Nov 06 23:59:55 +0000 2021  ...                                                NaN\n",
              "4   Sat Nov 06 23:59:51 +0000 2021  ...                                                NaN\n",
              "..                             ...  ...                                                ...\n",
              "95  Sat Nov 06 23:55:43 +0000 2021  ...  {'media': [{'id': 1456965743774474244, 'id_str...\n",
              "96  Sat Nov 06 23:55:43 +0000 2021  ...                                                NaN\n",
              "97  Sat Nov 06 23:55:38 +0000 2021  ...                                                NaN\n",
              "98  Sat Nov 06 23:55:35 +0000 2021  ...                                                NaN\n",
              "99  Sat Nov 06 23:55:31 +0000 2021  ...                                                NaN\n",
              "\n",
              "[100 rows x 36 columns]"
            ]
          },
          "metadata": {},
          "execution_count": 7
        }
      ]
    },
    {
      "cell_type": "markdown",
      "metadata": {
        "id": "k9ItAgz7uga9"
      },
      "source": [
        "### Preprocessing the data"
      ]
    },
    {
      "cell_type": "markdown",
      "metadata": {
        "id": "WSvM1_xzu9Uc"
      },
      "source": [
        "In our dataframe we have the entire Tweet object. Some columns that might be of particular interest to us are: \n",
        "\n",
        "*   created_at - date when Tweet was posted\n",
        "*   id/id_str - unique Tweet identifiers\n",
        "*   text - the content of the Tweet\n",
        "*   user - information about the user who posted the Tweet\n",
        "*   retweeted_status  - information about the original Tweet\n",
        "*   quote/reply/retweet/favorite count - Tweet metrics\n",
        "*   entities - hashtags, urls, user_mentions present in Tweet\n",
        "\n",
        "We can filter the dataframe and keep only columns we are interested in. You can pick which columns you'd like to keep and put them int the column_list below.\n",
        "\n"
      ]
    },
    {
      "cell_type": "code",
      "metadata": {
        "id": "AZYiG40aumbk"
      },
      "source": [
        "tweets_filtered = tweets_df.copy() #it's a good idea to work on the copy of original dataframe, so we can always go back to it if we mess something up\n",
        "column_list = [\"created_at\", \"id_str\", \"text\", \"user\", \"retweeted_status\", \"quote_count\", \"reply_count\", \"retweet_count\", \"favorite_count\", \"entities\"]\n",
        "tweets_filtered = tweets_filtered[column_list]"
      ],
      "execution_count": null,
      "outputs": []
    },
    {
      "cell_type": "code",
      "metadata": {
        "id": "qQ90m-FpxM9N",
        "colab": {
          "base_uri": "https://localhost:8080/",
          "height": 949
        },
        "outputId": "71580f69-7c38-4c5f-9ef5-05c493475b97"
      },
      "source": [
        "tweets_filtered"
      ],
      "execution_count": null,
      "outputs": [
        {
          "output_type": "execute_result",
          "data": {
            "text/html": [
              "<div>\n",
              "<style scoped>\n",
              "    .dataframe tbody tr th:only-of-type {\n",
              "        vertical-align: middle;\n",
              "    }\n",
              "\n",
              "    .dataframe tbody tr th {\n",
              "        vertical-align: top;\n",
              "    }\n",
              "\n",
              "    .dataframe thead th {\n",
              "        text-align: right;\n",
              "    }\n",
              "</style>\n",
              "<table border=\"1\" class=\"dataframe\">\n",
              "  <thead>\n",
              "    <tr style=\"text-align: right;\">\n",
              "      <th></th>\n",
              "      <th>created_at</th>\n",
              "      <th>id_str</th>\n",
              "      <th>text</th>\n",
              "      <th>user</th>\n",
              "      <th>retweeted_status</th>\n",
              "      <th>quote_count</th>\n",
              "      <th>reply_count</th>\n",
              "      <th>retweet_count</th>\n",
              "      <th>favorite_count</th>\n",
              "      <th>entities</th>\n",
              "    </tr>\n",
              "  </thead>\n",
              "  <tbody>\n",
              "    <tr>\n",
              "      <th>0</th>\n",
              "      <td>Sat Nov 06 23:59:58 +0000 2021</td>\n",
              "      <td>1457135701732904962</td>\n",
              "      <td>RT @mansukhmandviya: Appreciate @Murugan_MoS j...</td>\n",
              "      <td>{'id': 1366620482997420034, 'id_str': '1366620...</td>\n",
              "      <td>{'created_at': 'Sat Nov 06 16:23:21 +0000 2021...</td>\n",
              "      <td>0</td>\n",
              "      <td>0</td>\n",
              "      <td>0</td>\n",
              "      <td>0</td>\n",
              "      <td>{'hashtags': [{'text': 'HarGharDastak', 'indic...</td>\n",
              "    </tr>\n",
              "    <tr>\n",
              "      <th>1</th>\n",
              "      <td>Sat Nov 06 23:59:57 +0000 2021</td>\n",
              "      <td>1457135697337458691</td>\n",
              "      <td>RT @StephenSteglik: Shoutout to @BigBird for n...</td>\n",
              "      <td>{'id': 38947085, 'id_str': '38947085', 'name':...</td>\n",
              "      <td>{'created_at': 'Sat Nov 06 23:59:24 +0000 2021...</td>\n",
              "      <td>0</td>\n",
              "      <td>0</td>\n",
              "      <td>0</td>\n",
              "      <td>0</td>\n",
              "      <td>{'hashtags': [{'text': 'GetVaccinated', 'indic...</td>\n",
              "    </tr>\n",
              "    <tr>\n",
              "      <th>2</th>\n",
              "      <td>Sat Nov 06 23:59:56 +0000 2021</td>\n",
              "      <td>1457135694367924227</td>\n",
              "      <td>RT @apsmunro: If you hear there have been &amp;gt;...</td>\n",
              "      <td>{'id': 16078191, 'id_str': '16078191', 'name':...</td>\n",
              "      <td>{'created_at': 'Sat Nov 06 12:36:15 +0000 2021...</td>\n",
              "      <td>0</td>\n",
              "      <td>0</td>\n",
              "      <td>0</td>\n",
              "      <td>0</td>\n",
              "      <td>{'hashtags': [], 'urls': [], 'user_mentions': ...</td>\n",
              "    </tr>\n",
              "    <tr>\n",
              "      <th>3</th>\n",
              "      <td>Sat Nov 06 23:59:55 +0000 2021</td>\n",
              "      <td>1457135690093776899</td>\n",
              "      <td>Tonight on CHEK News at 5 p.m. with @JasmineBa...</td>\n",
              "      <td>{'id': 156749387, 'id_str': '156749387', 'name...</td>\n",
              "      <td>NaN</td>\n",
              "      <td>0</td>\n",
              "      <td>1</td>\n",
              "      <td>2</td>\n",
              "      <td>2</td>\n",
              "      <td>{'hashtags': [{'text': 'COVID19', 'indices': [...</td>\n",
              "    </tr>\n",
              "    <tr>\n",
              "      <th>4</th>\n",
              "      <td>Sat Nov 06 23:59:51 +0000 2021</td>\n",
              "      <td>1457135673773727748</td>\n",
              "      <td>RT @SovernNation: A #COVID19 outbreak among th...</td>\n",
              "      <td>{'id': 1295326471821520899, 'id_str': '1295326...</td>\n",
              "      <td>{'created_at': 'Sat Nov 06 23:59:33 +0000 2021...</td>\n",
              "      <td>0</td>\n",
              "      <td>0</td>\n",
              "      <td>0</td>\n",
              "      <td>0</td>\n",
              "      <td>{'hashtags': [{'text': 'COVID19', 'indices': [...</td>\n",
              "    </tr>\n",
              "    <tr>\n",
              "      <th>...</th>\n",
              "      <td>...</td>\n",
              "      <td>...</td>\n",
              "      <td>...</td>\n",
              "      <td>...</td>\n",
              "      <td>...</td>\n",
              "      <td>...</td>\n",
              "      <td>...</td>\n",
              "      <td>...</td>\n",
              "      <td>...</td>\n",
              "      <td>...</td>\n",
              "    </tr>\n",
              "    <tr>\n",
              "      <th>95</th>\n",
              "      <td>Sat Nov 06 23:55:43 +0000 2021</td>\n",
              "      <td>1457134631937929221</td>\n",
              "      <td>RT @disclosetv: NEW - Sesame Street with Ameri...</td>\n",
              "      <td>{'id': 3233164824, 'id_str': '3233164824', 'na...</td>\n",
              "      <td>{'created_at': 'Sat Nov 06 12:45:38 +0000 2021...</td>\n",
              "      <td>0</td>\n",
              "      <td>0</td>\n",
              "      <td>0</td>\n",
              "      <td>0</td>\n",
              "      <td>{'hashtags': [{'text': 'COVID19', 'indices': [...</td>\n",
              "    </tr>\n",
              "    <tr>\n",
              "      <th>96</th>\n",
              "      <td>Sat Nov 06 23:55:43 +0000 2021</td>\n",
              "      <td>1457134631392665602</td>\n",
              "      <td>RT @UNICEFIndia: As we celebrate the #COVID19 ...</td>\n",
              "      <td>{'id': 1407216867551244288, 'id_str': '1407216...</td>\n",
              "      <td>{'created_at': 'Tue Oct 19 03:30:00 +0000 2021...</td>\n",
              "      <td>0</td>\n",
              "      <td>0</td>\n",
              "      <td>0</td>\n",
              "      <td>0</td>\n",
              "      <td>{'hashtags': [{'text': 'COVID19', 'indices': [...</td>\n",
              "    </tr>\n",
              "    <tr>\n",
              "      <th>97</th>\n",
              "      <td>Sat Nov 06 23:55:38 +0000 2021</td>\n",
              "      <td>1457134610958139398</td>\n",
              "      <td>RT @BulliedAutistic: @Tammlin1963 You can't tr...</td>\n",
              "      <td>{'id': 1213639608304431104, 'id_str': '1213639...</td>\n",
              "      <td>{'created_at': 'Sat Nov 06 23:55:27 +0000 2021...</td>\n",
              "      <td>0</td>\n",
              "      <td>0</td>\n",
              "      <td>0</td>\n",
              "      <td>0</td>\n",
              "      <td>{'hashtags': [], 'urls': [], 'user_mentions': ...</td>\n",
              "    </tr>\n",
              "    <tr>\n",
              "      <th>98</th>\n",
              "      <td>Sat Nov 06 23:55:35 +0000 2021</td>\n",
              "      <td>1457134599432282114</td>\n",
              "      <td>@CoxeAnne @LovesBulldawgs @AnarchistGolden @Do...</td>\n",
              "      <td>{'id': 1368049995534974976, 'id_str': '1368049...</td>\n",
              "      <td>NaN</td>\n",
              "      <td>0</td>\n",
              "      <td>0</td>\n",
              "      <td>0</td>\n",
              "      <td>0</td>\n",
              "      <td>{'hashtags': [], 'urls': [{'url': 'https://t.c...</td>\n",
              "    </tr>\n",
              "    <tr>\n",
              "      <th>99</th>\n",
              "      <td>Sat Nov 06 23:55:31 +0000 2021</td>\n",
              "      <td>1457134584735453194</td>\n",
              "      <td>RT @BernieSpofforth: Never forget this day. \\n...</td>\n",
              "      <td>{'id': 4041137254, 'id_str': '4041137254', 'na...</td>\n",
              "      <td>{'created_at': 'Sat Nov 06 11:34:01 +0000 2021...</td>\n",
              "      <td>0</td>\n",
              "      <td>0</td>\n",
              "      <td>0</td>\n",
              "      <td>0</td>\n",
              "      <td>{'hashtags': [], 'urls': [], 'user_mentions': ...</td>\n",
              "    </tr>\n",
              "  </tbody>\n",
              "</table>\n",
              "<p>100 rows × 10 columns</p>\n",
              "</div>"
            ],
            "text/plain": [
              "                        created_at  ...                                           entities\n",
              "0   Sat Nov 06 23:59:58 +0000 2021  ...  {'hashtags': [{'text': 'HarGharDastak', 'indic...\n",
              "1   Sat Nov 06 23:59:57 +0000 2021  ...  {'hashtags': [{'text': 'GetVaccinated', 'indic...\n",
              "2   Sat Nov 06 23:59:56 +0000 2021  ...  {'hashtags': [], 'urls': [], 'user_mentions': ...\n",
              "3   Sat Nov 06 23:59:55 +0000 2021  ...  {'hashtags': [{'text': 'COVID19', 'indices': [...\n",
              "4   Sat Nov 06 23:59:51 +0000 2021  ...  {'hashtags': [{'text': 'COVID19', 'indices': [...\n",
              "..                             ...  ...                                                ...\n",
              "95  Sat Nov 06 23:55:43 +0000 2021  ...  {'hashtags': [{'text': 'COVID19', 'indices': [...\n",
              "96  Sat Nov 06 23:55:43 +0000 2021  ...  {'hashtags': [{'text': 'COVID19', 'indices': [...\n",
              "97  Sat Nov 06 23:55:38 +0000 2021  ...  {'hashtags': [], 'urls': [], 'user_mentions': ...\n",
              "98  Sat Nov 06 23:55:35 +0000 2021  ...  {'hashtags': [], 'urls': [{'url': 'https://t.c...\n",
              "99  Sat Nov 06 23:55:31 +0000 2021  ...  {'hashtags': [], 'urls': [], 'user_mentions': ...\n",
              "\n",
              "[100 rows x 10 columns]"
            ]
          },
          "metadata": {},
          "execution_count": 9
        }
      ]
    },
    {
      "cell_type": "markdown",
      "metadata": {
        "id": "hPgzBUJj0SZU"
      },
      "source": [
        "## Extracting words/hashtags"
      ]
    },
    {
      "cell_type": "markdown",
      "metadata": {
        "id": "CygaLHAS0nzP"
      },
      "source": [
        "There are many ways to build networks from the data we download from Twitter.\n",
        "\n",
        "One possibility is to have a bipartite network of Tweets and words/hashtags and then observe word, hashtag or word-hashtag projections."
      ]
    },
    {
      "cell_type": "markdown",
      "metadata": {
        "id": "H1nTCbRc0-__"
      },
      "source": [
        "### Extracting words"
      ]
    },
    {
      "cell_type": "markdown",
      "metadata": {
        "id": "8pGnokgK1jma"
      },
      "source": [
        "In order to extract words, we first need to clean the Tweet text. This way we will remove punctuation, hashtags/mentions/urls (they are preserved in the entity column anyway). We will also turn all letters to lowercase.\n",
        "\n",
        "You can also consider removing stopwords, removing words that are not in the english language corpora, lematizing the words, etc. I suggest you research nltk library and its possibilities."
      ]
    },
    {
      "cell_type": "code",
      "metadata": {
        "id": "y5746Mq918dG"
      },
      "source": [
        "import re\n",
        "import string"
      ],
      "execution_count": null,
      "outputs": []
    },
    {
      "cell_type": "code",
      "metadata": {
        "id": "Z8Nrv5jv1e5W"
      },
      "source": [
        "def cleaner(tweet):\n",
        "    tweet = re.sub(\"@[A-Za-z0-9]+\",\"\",tweet) # remove mentions\n",
        "    tweet = re.sub(\"#[A-Za-z0-9]+\", \"\",tweet) # remove hashtags\n",
        "    tweet = re.sub(r\"(?:\\@|http?\\://|https?\\://|www)\\S+\", \"\", tweet) # remove http links\n",
        "    tweet = \" \".join(tweet.split())\n",
        "    tweet = str.lower(tweet) #to lowercase\n",
        "    table = str.maketrans(dict.fromkeys(string.punctuation)) \n",
        "    tweet = tweet.translate(table)# remove punctuation         \n",
        "    return tweet"
      ],
      "execution_count": null,
      "outputs": []
    },
    {
      "cell_type": "code",
      "metadata": {
        "id": "fEhs-tyy2naZ"
      },
      "source": [
        "tweets_filtered[\"clean_text\"] = tweets_filtered[\"text\"].map(cleaner)\n",
        "# tweets_filtered['clean_text']"
      ],
      "execution_count": null,
      "outputs": []
    },
    {
      "cell_type": "markdown",
      "metadata": {
        "id": "I1_lSQZ85rT_"
      },
      "source": [
        "We are going to loop through the dataframe and then through the words in the clean text. We are going to add the words as keys to dictionary and use their frequencies as values."
      ]
    },
    {
      "cell_type": "code",
      "metadata": {
        "id": "xiBKlJhV3d_S"
      },
      "source": [
        "#initialize an empty dict\n",
        "unique_words = {}\n",
        "for row in tweets_filtered.clean_text:\n",
        "  for word in row.split(\" \"):\n",
        "    #if the word is encountered for the first time add to dict as key and set its value to 0\n",
        "    unique_words.setdefault(word,0)\n",
        "    #increase the value (i.e the count) of the word by 1 every time it is encountered\n",
        "    unique_words[word] += 1"
      ],
      "execution_count": null,
      "outputs": []
    },
    {
      "cell_type": "code",
      "metadata": {
        "id": "8k7riE1z7F6r",
        "colab": {
          "base_uri": "https://localhost:8080/"
        },
        "outputId": "1c399f74-d3be-4467-a4b4-b3963d2f7f85"
      },
      "source": [
        "#remove empty word\n",
        "unique_words.pop(\"\")\n",
        "#remove word 'rt'\n",
        "unique_words.pop(\"rt\")"
      ],
      "execution_count": null,
      "outputs": [
        {
          "output_type": "execute_result",
          "data": {
            "text/plain": [
              "63"
            ]
          },
          "metadata": {},
          "execution_count": 19
        }
      ]
    },
    {
      "cell_type": "code",
      "metadata": {
        "id": "u9Kh2gj6OPlv"
      },
      "source": [
        "# sorted(unique_words)"
      ],
      "execution_count": null,
      "outputs": []
    },
    {
      "cell_type": "markdown",
      "metadata": {
        "id": "kVYvDBQu57If"
      },
      "source": [
        "We can inspect the words as a dataframe. \n",
        "\n",
        "\n",
        "You can always save this dataframe as .csv for future reference."
      ]
    },
    {
      "cell_type": "code",
      "metadata": {
        "id": "_xI5aGQM53u4",
        "colab": {
          "base_uri": "https://localhost:8080/",
          "height": 419
        },
        "outputId": "d71139a2-029e-46d9-f338-83c451dc21cf"
      },
      "source": [
        "uw_df = pd.DataFrame.from_dict(unique_words, orient='index').reset_index()\n",
        "uw_df.rename(columns = {'index':'Word', 0:'Count'}, inplace=True)\n",
        "uw_df.sort_values(by=['Count'], ascending=False, inplace=True)\n",
        "uw_df"
      ],
      "execution_count": null,
      "outputs": [
        {
          "output_type": "execute_result",
          "data": {
            "text/html": [
              "<div>\n",
              "<style scoped>\n",
              "    .dataframe tbody tr th:only-of-type {\n",
              "        vertical-align: middle;\n",
              "    }\n",
              "\n",
              "    .dataframe tbody tr th {\n",
              "        vertical-align: top;\n",
              "    }\n",
              "\n",
              "    .dataframe thead th {\n",
              "        text-align: right;\n",
              "    }\n",
              "</style>\n",
              "<table border=\"1\" class=\"dataframe\">\n",
              "  <thead>\n",
              "    <tr style=\"text-align: right;\">\n",
              "      <th></th>\n",
              "      <th>Word</th>\n",
              "      <th>Count</th>\n",
              "    </tr>\n",
              "  </thead>\n",
              "  <tbody>\n",
              "    <tr>\n",
              "      <th>55</th>\n",
              "      <td>the</td>\n",
              "      <td>61</td>\n",
              "    </tr>\n",
              "    <tr>\n",
              "      <th>4</th>\n",
              "      <td>to</td>\n",
              "      <td>37</td>\n",
              "    </tr>\n",
              "    <tr>\n",
              "      <th>35</th>\n",
              "      <td>is</td>\n",
              "      <td>27</td>\n",
              "    </tr>\n",
              "    <tr>\n",
              "      <th>16</th>\n",
              "      <td>a</td>\n",
              "      <td>26</td>\n",
              "    </tr>\n",
              "    <tr>\n",
              "      <th>9</th>\n",
              "      <td>of</td>\n",
              "      <td>24</td>\n",
              "    </tr>\n",
              "    <tr>\n",
              "      <th>...</th>\n",
              "      <td>...</td>\n",
              "      <td>...</td>\n",
              "    </tr>\n",
              "    <tr>\n",
              "      <th>314</th>\n",
              "      <td>flu</td>\n",
              "      <td>1</td>\n",
              "    </tr>\n",
              "    <tr>\n",
              "      <th>313</th>\n",
              "      <td>every</td>\n",
              "      <td>1</td>\n",
              "    </tr>\n",
              "    <tr>\n",
              "      <th>312</th>\n",
              "      <td>halfthere</td>\n",
              "      <td>1</td>\n",
              "    </tr>\n",
              "    <tr>\n",
              "      <th>309</th>\n",
              "      <td>comment</td>\n",
              "      <td>1</td>\n",
              "    </tr>\n",
              "    <tr>\n",
              "      <th>753</th>\n",
              "      <td>pr…</td>\n",
              "      <td>1</td>\n",
              "    </tr>\n",
              "  </tbody>\n",
              "</table>\n",
              "<p>754 rows × 2 columns</p>\n",
              "</div>"
            ],
            "text/plain": [
              "          Word  Count\n",
              "55         the     61\n",
              "4           to     37\n",
              "35          is     27\n",
              "16           a     26\n",
              "9           of     24\n",
              "..         ...    ...\n",
              "314        flu      1\n",
              "313      every      1\n",
              "312  halfthere      1\n",
              "309    comment      1\n",
              "753        pr…      1\n",
              "\n",
              "[754 rows x 2 columns]"
            ]
          },
          "metadata": {},
          "execution_count": 28
        }
      ]
    },
    {
      "cell_type": "markdown",
      "metadata": {
        "id": "C4R-j-FN7Rgo"
      },
      "source": [
        "### Extracting the hashtags"
      ]
    },
    {
      "cell_type": "markdown",
      "metadata": {
        "id": "O8SfJwmf9GU2"
      },
      "source": [
        "We are going to loop through the dataframe and then through the hashtags in the entities. We are going to add the hashtags as keys to dictionary and use their frequencies as values. At the same time, we are going to save them in a list and add them to a separate column to facilitate our future work."
      ]
    },
    {
      "cell_type": "code",
      "metadata": {
        "id": "hHyc_WrGt5Tj"
      },
      "source": [
        "unique_hashtags = {}\n",
        "\n",
        "tweets_filtered[\"hashtags\"] = \"\"\n",
        "\n",
        "for idx, row in tweets_filtered.iterrows():\n",
        "  hashtag_list = []\n",
        "  for hashtag in row[\"entities\"][\"hashtags\"]:\n",
        "    unique_hashtags.setdefault(\"#\"+hashtag[\"text\"], 0)\n",
        "    unique_hashtags['#'+hashtag[\"text\"]] += 1\n",
        "    hashtag_list.append(hashtag[\"text\"])\n",
        "  tweets_filtered.at[idx,\"hashtags\"] = hashtag_list"
      ],
      "execution_count": null,
      "outputs": []
    },
    {
      "cell_type": "code",
      "metadata": {
        "id": "uCb7arJqUXOu"
      },
      "source": [
        "uh_df = pd.DataFrame.from_dict(unique_hashtags, orient='index').reset_index()\n",
        "uh_df.rename(columns = {'index':'Hashtag', 0:'Count'}, inplace=True)\n",
        "uh_df.sort_values(by=['Count'], ascending=False, inplace=True)"
      ],
      "execution_count": null,
      "outputs": []
    },
    {
      "cell_type": "code",
      "metadata": {
        "id": "31Ydx_RbWSGc",
        "colab": {
          "base_uri": "https://localhost:8080/",
          "height": 1000
        },
        "outputId": "d6dc8522-bc6e-477c-90ef-ee6b06112bb3"
      },
      "source": [
        "uh_df"
      ],
      "execution_count": null,
      "outputs": [
        {
          "output_type": "execute_result",
          "data": {
            "text/html": [
              "<div>\n",
              "<style scoped>\n",
              "    .dataframe tbody tr th:only-of-type {\n",
              "        vertical-align: middle;\n",
              "    }\n",
              "\n",
              "    .dataframe tbody tr th {\n",
              "        vertical-align: top;\n",
              "    }\n",
              "\n",
              "    .dataframe thead th {\n",
              "        text-align: right;\n",
              "    }\n",
              "</style>\n",
              "<table border=\"1\" class=\"dataframe\">\n",
              "  <thead>\n",
              "    <tr style=\"text-align: right;\">\n",
              "      <th></th>\n",
              "      <th>Hashtag</th>\n",
              "      <th>Count</th>\n",
              "    </tr>\n",
              "  </thead>\n",
              "  <tbody>\n",
              "    <tr>\n",
              "      <th>3</th>\n",
              "      <td>#COVID19</td>\n",
              "      <td>34</td>\n",
              "    </tr>\n",
              "    <tr>\n",
              "      <th>2</th>\n",
              "      <td>#Covid19</td>\n",
              "      <td>5</td>\n",
              "    </tr>\n",
              "    <tr>\n",
              "      <th>20</th>\n",
              "      <td>#Vaccine</td>\n",
              "      <td>4</td>\n",
              "    </tr>\n",
              "    <tr>\n",
              "      <th>22</th>\n",
              "      <td>#CCP</td>\n",
              "      <td>3</td>\n",
              "    </tr>\n",
              "    <tr>\n",
              "      <th>25</th>\n",
              "      <td>#covid19</td>\n",
              "      <td>2</td>\n",
              "    </tr>\n",
              "    <tr>\n",
              "      <th>1</th>\n",
              "      <td>#GetVaccinated</td>\n",
              "      <td>2</td>\n",
              "    </tr>\n",
              "    <tr>\n",
              "      <th>9</th>\n",
              "      <td>#auspol</td>\n",
              "      <td>2</td>\n",
              "    </tr>\n",
              "    <tr>\n",
              "      <th>30</th>\n",
              "      <td>#AI</td>\n",
              "      <td>2</td>\n",
              "    </tr>\n",
              "    <tr>\n",
              "      <th>31</th>\n",
              "      <td>#leadership</td>\n",
              "      <td>1</td>\n",
              "    </tr>\n",
              "    <tr>\n",
              "      <th>26</th>\n",
              "      <td>#abstract</td>\n",
              "      <td>1</td>\n",
              "    </tr>\n",
              "    <tr>\n",
              "      <th>27</th>\n",
              "      <td>#art</td>\n",
              "      <td>1</td>\n",
              "    </tr>\n",
              "    <tr>\n",
              "      <th>28</th>\n",
              "      <td>#loose</td>\n",
              "      <td>1</td>\n",
              "    </tr>\n",
              "    <tr>\n",
              "      <th>29</th>\n",
              "      <td>#vaccines</td>\n",
              "      <td>1</td>\n",
              "    </tr>\n",
              "    <tr>\n",
              "      <th>0</th>\n",
              "      <td>#HarGharDastak</td>\n",
              "      <td>1</td>\n",
              "    </tr>\n",
              "    <tr>\n",
              "      <th>32</th>\n",
              "      <td>#GeniouxMG</td>\n",
              "      <td>1</td>\n",
              "    </tr>\n",
              "    <tr>\n",
              "      <th>24</th>\n",
              "      <td>#stayhome</td>\n",
              "      <td>1</td>\n",
              "    </tr>\n",
              "    <tr>\n",
              "      <th>34</th>\n",
              "      <td>#Growth</td>\n",
              "      <td>1</td>\n",
              "    </tr>\n",
              "    <tr>\n",
              "      <th>35</th>\n",
              "      <td>#treasure</td>\n",
              "      <td>1</td>\n",
              "    </tr>\n",
              "    <tr>\n",
              "      <th>36</th>\n",
              "      <td>#GK</td>\n",
              "      <td>1</td>\n",
              "    </tr>\n",
              "    <tr>\n",
              "      <th>37</th>\n",
              "      <td>#GKPath</td>\n",
              "      <td>1</td>\n",
              "    </tr>\n",
              "    <tr>\n",
              "      <th>38</th>\n",
              "      <td>#PDT</td>\n",
              "      <td>1</td>\n",
              "    </tr>\n",
              "    <tr>\n",
              "      <th>39</th>\n",
              "      <td>#DT</td>\n",
              "      <td>1</td>\n",
              "    </tr>\n",
              "    <tr>\n",
              "      <th>40</th>\n",
              "      <td>#GetVaccinatedNow</td>\n",
              "      <td>1</td>\n",
              "    </tr>\n",
              "    <tr>\n",
              "      <th>33</th>\n",
              "      <td>#learning</td>\n",
              "      <td>1</td>\n",
              "    </tr>\n",
              "    <tr>\n",
              "      <th>21</th>\n",
              "      <td>#Unite2FightCorona</td>\n",
              "      <td>1</td>\n",
              "    </tr>\n",
              "    <tr>\n",
              "      <th>23</th>\n",
              "      <td>#armyoflovers</td>\n",
              "      <td>1</td>\n",
              "    </tr>\n",
              "    <tr>\n",
              "      <th>11</th>\n",
              "      <td>#Coronavirus</td>\n",
              "      <td>1</td>\n",
              "    </tr>\n",
              "    <tr>\n",
              "      <th>4</th>\n",
              "      <td>#Britain</td>\n",
              "      <td>1</td>\n",
              "    </tr>\n",
              "    <tr>\n",
              "      <th>5</th>\n",
              "      <td>#brexit</td>\n",
              "      <td>1</td>\n",
              "    </tr>\n",
              "    <tr>\n",
              "      <th>6</th>\n",
              "      <td>#BorisHasFailedBritain</td>\n",
              "      <td>1</td>\n",
              "    </tr>\n",
              "    <tr>\n",
              "      <th>7</th>\n",
              "      <td>#BorisJohnson</td>\n",
              "      <td>1</td>\n",
              "    </tr>\n",
              "    <tr>\n",
              "      <th>8</th>\n",
              "      <td>#FennaTugemebwe</td>\n",
              "      <td>1</td>\n",
              "    </tr>\n",
              "    <tr>\n",
              "      <th>10</th>\n",
              "      <td>#insiders</td>\n",
              "      <td>1</td>\n",
              "    </tr>\n",
              "    <tr>\n",
              "      <th>12</th>\n",
              "      <td>#leronlimab</td>\n",
              "      <td>1</td>\n",
              "    </tr>\n",
              "    <tr>\n",
              "      <th>19</th>\n",
              "      <td>#VaccineCentury</td>\n",
              "      <td>1</td>\n",
              "    </tr>\n",
              "    <tr>\n",
              "      <th>13</th>\n",
              "      <td>#zyesami</td>\n",
              "      <td>1</td>\n",
              "    </tr>\n",
              "    <tr>\n",
              "      <th>14</th>\n",
              "      <td>#vaccinated</td>\n",
              "      <td>1</td>\n",
              "    </tr>\n",
              "    <tr>\n",
              "      <th>15</th>\n",
              "      <td>#VaccinePassports</td>\n",
              "      <td>1</td>\n",
              "    </tr>\n",
              "    <tr>\n",
              "      <th>16</th>\n",
              "      <td>#Covid_19</td>\n",
              "      <td>1</td>\n",
              "    </tr>\n",
              "    <tr>\n",
              "      <th>17</th>\n",
              "      <td>#HoldTheLine</td>\n",
              "      <td>1</td>\n",
              "    </tr>\n",
              "    <tr>\n",
              "      <th>18</th>\n",
              "      <td>#vaccination</td>\n",
              "      <td>1</td>\n",
              "    </tr>\n",
              "    <tr>\n",
              "      <th>41</th>\n",
              "      <td>#Companies</td>\n",
              "      <td>1</td>\n",
              "    </tr>\n",
              "  </tbody>\n",
              "</table>\n",
              "</div>"
            ],
            "text/plain": [
              "                   Hashtag  Count\n",
              "3                 #COVID19     34\n",
              "2                 #Covid19      5\n",
              "20                #Vaccine      4\n",
              "22                    #CCP      3\n",
              "25                #covid19      2\n",
              "1           #GetVaccinated      2\n",
              "9                  #auspol      2\n",
              "30                     #AI      2\n",
              "31             #leadership      1\n",
              "26               #abstract      1\n",
              "27                    #art      1\n",
              "28                  #loose      1\n",
              "29               #vaccines      1\n",
              "0           #HarGharDastak      1\n",
              "32              #GeniouxMG      1\n",
              "24               #stayhome      1\n",
              "34                 #Growth      1\n",
              "35               #treasure      1\n",
              "36                     #GK      1\n",
              "37                 #GKPath      1\n",
              "38                    #PDT      1\n",
              "39                     #DT      1\n",
              "40       #GetVaccinatedNow      1\n",
              "33               #learning      1\n",
              "21      #Unite2FightCorona      1\n",
              "23           #armyoflovers      1\n",
              "11            #Coronavirus      1\n",
              "4                 #Britain      1\n",
              "5                  #brexit      1\n",
              "6   #BorisHasFailedBritain      1\n",
              "7            #BorisJohnson      1\n",
              "8          #FennaTugemebwe      1\n",
              "10               #insiders      1\n",
              "12             #leronlimab      1\n",
              "19         #VaccineCentury      1\n",
              "13                #zyesami      1\n",
              "14             #vaccinated      1\n",
              "15       #VaccinePassports      1\n",
              "16               #Covid_19      1\n",
              "17            #HoldTheLine      1\n",
              "18            #vaccination      1\n",
              "41              #Companies      1"
            ]
          },
          "metadata": {},
          "execution_count": 31
        }
      ]
    },
    {
      "cell_type": "markdown",
      "metadata": {
        "id": "wPaVj1tj9Uw6"
      },
      "source": [
        "## Building the network"
      ]
    },
    {
      "cell_type": "markdown",
      "metadata": {
        "id": "vt2co2ep9YCd"
      },
      "source": [
        "We are going to use the networkx library, which is a Python library that enables network science analysis of the data.\n",
        "\n",
        "We are going to use it to create our network and extract edgelist from it, since we can easily import it to Gephi (a software we are going to see in visualization labs).\n",
        "\n",
        "However, it offers implemented algorithms for analysis (for example PageRank) that you can use out-of-box to analyze your network."
      ]
    },
    {
      "cell_type": "markdown",
      "metadata": {
        "id": "gnd62ng6-GLW"
      },
      "source": [
        "But first, we will loop through our dataframe and connect words and hashtags if they appear together in the same Tweet."
      ]
    },
    {
      "cell_type": "code",
      "metadata": {
        "id": "BooMyc6-1JWa"
      },
      "source": [
        "import itertools\n",
        "import networkx as nx"
      ],
      "execution_count": null,
      "outputs": []
    },
    {
      "cell_type": "code",
      "metadata": {
        "id": "adLbCz86M7SR"
      },
      "source": [
        "uh = unique_hashtags.keys()\n",
        "uw = unique_words.keys()  "
      ],
      "execution_count": null,
      "outputs": []
    },
    {
      "cell_type": "code",
      "metadata": {
        "id": "UHuQ3rRXOA5_"
      },
      "source": [
        "network = {}\n",
        "network_key = 0\n",
        "for index, row in tweets_filtered.iterrows():\n",
        "    #hashtags extracted from Tweet do not have the # sign in front of them but we will add it to differentiate hashtags from words\n",
        "    combined_list = ['#'+hashtag for hashtag in row[\"hashtags\"] if '#'+hashtag in unique_hashtags] + [word for word in str.split(row[\"clean_text\"], \" \") if word in uw]\n",
        "    #itertool product creates Cartesian product of each element in the combined list\n",
        "    for pair in itertools.product(combined_list, combined_list):\n",
        "        #exclude self-loops and count each pair only once because our graph is undirected and we do not take self-loops into account\n",
        "        if pair[0]!=pair[1] and not(pair[::-1] in network):\n",
        "            network.setdefault(pair,0)\n",
        "            network[pair] += 1 \n",
        "    \n",
        "network_df = pd.DataFrame.from_dict(network, orient=\"index\")"
      ],
      "execution_count": null,
      "outputs": []
    },
    {
      "cell_type": "code",
      "metadata": {
        "id": "8uThrYGHSdEe",
        "colab": {
          "base_uri": "https://localhost:8080/",
          "height": 419
        },
        "outputId": "64b6ae24-09d5-4401-da65-7559b991435c"
      },
      "source": [
        "network_df.reset_index(inplace=True)\n",
        "network_df.columns = [\"pair\",\"weight\"]\n",
        "network_df.sort_values(by=\"weight\",inplace=True, ascending=False)\n",
        "network_df"
      ],
      "execution_count": null,
      "outputs": [
        {
          "output_type": "execute_result",
          "data": {
            "text/html": [
              "<div>\n",
              "<style scoped>\n",
              "    .dataframe tbody tr th:only-of-type {\n",
              "        vertical-align: middle;\n",
              "    }\n",
              "\n",
              "    .dataframe tbody tr th {\n",
              "        vertical-align: top;\n",
              "    }\n",
              "\n",
              "    .dataframe thead th {\n",
              "        text-align: right;\n",
              "    }\n",
              "</style>\n",
              "<table border=\"1\" class=\"dataframe\">\n",
              "  <thead>\n",
              "    <tr style=\"text-align: right;\">\n",
              "      <th></th>\n",
              "      <th>pair</th>\n",
              "      <th>weight</th>\n",
              "    </tr>\n",
              "  </thead>\n",
              "  <tbody>\n",
              "    <tr>\n",
              "      <th>1038</th>\n",
              "      <td>(the, to)</td>\n",
              "      <td>26</td>\n",
              "    </tr>\n",
              "    <tr>\n",
              "      <th>510</th>\n",
              "      <td>(#COVID19, the)</td>\n",
              "      <td>24</td>\n",
              "    </tr>\n",
              "    <tr>\n",
              "      <th>1947</th>\n",
              "      <td>(the, this)</td>\n",
              "      <td>17</td>\n",
              "    </tr>\n",
              "    <tr>\n",
              "      <th>1307</th>\n",
              "      <td>(covid19, the)</td>\n",
              "      <td>16</td>\n",
              "    </tr>\n",
              "    <tr>\n",
              "      <th>352</th>\n",
              "      <td>(is, a)</td>\n",
              "      <td>16</td>\n",
              "    </tr>\n",
              "    <tr>\n",
              "      <th>...</th>\n",
              "      <td>...</td>\n",
              "      <td>...</td>\n",
              "    </tr>\n",
              "    <tr>\n",
              "      <th>3591</th>\n",
              "      <td>(chronic, sack)</td>\n",
              "      <td>1</td>\n",
              "    </tr>\n",
              "    <tr>\n",
              "      <th>3590</th>\n",
              "      <td>(chronic, move)</td>\n",
              "      <td>1</td>\n",
              "    </tr>\n",
              "    <tr>\n",
              "      <th>3589</th>\n",
              "      <td>(chronic, the)</td>\n",
              "      <td>1</td>\n",
              "    </tr>\n",
              "    <tr>\n",
              "      <th>3588</th>\n",
              "      <td>(chronic, feared)</td>\n",
              "      <td>1</td>\n",
              "    </tr>\n",
              "    <tr>\n",
              "      <th>9855</th>\n",
              "      <td>(else, pr…)</td>\n",
              "      <td>1</td>\n",
              "    </tr>\n",
              "  </tbody>\n",
              "</table>\n",
              "<p>9856 rows × 2 columns</p>\n",
              "</div>"
            ],
            "text/plain": [
              "                   pair  weight\n",
              "1038          (the, to)      26\n",
              "510     (#COVID19, the)      24\n",
              "1947        (the, this)      17\n",
              "1307     (covid19, the)      16\n",
              "352             (is, a)      16\n",
              "...                 ...     ...\n",
              "3591    (chronic, sack)       1\n",
              "3590    (chronic, move)       1\n",
              "3589     (chronic, the)       1\n",
              "3588  (chronic, feared)       1\n",
              "9855        (else, pr…)       1\n",
              "\n",
              "[9856 rows x 2 columns]"
            ]
          },
          "metadata": {},
          "execution_count": 35
        }
      ]
    },
    {
      "cell_type": "code",
      "metadata": {
        "scrolled": false,
        "id": "NJvNvzGXy8Kg"
      },
      "source": [
        "#to get weighted graph we need a list of 3-element tuplels (u,v,w) where u and v are nodes and w is a number representing weight\n",
        "up_weighted = []\n",
        "for edge in network:\n",
        "    #we can filter edges by weight by uncommenting the next line and setting desired weight threshold\n",
        "    #if(network[edge])>1:\n",
        "    up_weighted.append((edge[0],edge[1],network[edge]))\n",
        "\n",
        "G = nx.Graph()\n",
        "G.add_weighted_edges_from(up_weighted)"
      ],
      "execution_count": null,
      "outputs": []
    },
    {
      "cell_type": "code",
      "metadata": {
        "id": "eSneLIqZNvt1",
        "colab": {
          "base_uri": "https://localhost:8080/"
        },
        "outputId": "7f23ce6e-0912-431e-e1ae-98a5a9ea1a03"
      },
      "source": [
        "print(len(G.nodes()))\n",
        "print(len(G.edges()))"
      ],
      "execution_count": null,
      "outputs": [
        {
          "output_type": "stream",
          "name": "stdout",
          "text": [
            "796\n",
            "9856\n"
          ]
        }
      ]
    },
    {
      "cell_type": "markdown",
      "metadata": {
        "id": "Mj3CwR5Cy8Kk"
      },
      "source": [
        "#### SAVE EDGELIST"
      ]
    },
    {
      "cell_type": "code",
      "metadata": {
        "id": "fFtpm869ONHg"
      },
      "source": [
        "filename = \"./edgelist.csv\""
      ],
      "execution_count": null,
      "outputs": []
    },
    {
      "cell_type": "code",
      "metadata": {
        "id": "PTmGSBc3y8Kn"
      },
      "source": [
        "nx.write_weighted_edgelist(G, filename, delimiter=\",\")"
      ],
      "execution_count": null,
      "outputs": []
    },
    {
      "cell_type": "code",
      "metadata": {
        "id": "GlboURoYy8Kp"
      },
      "source": [
        "#add header with appropriate column names (works on collab and Linux/Mac(?))\n",
        "! sed -i.bak 1i\"Source,Target,Weight\" ./edgelist.csv"
      ],
      "execution_count": null,
      "outputs": []
    },
    {
      "cell_type": "markdown",
      "metadata": {
        "id": "e5oT2lSry8Kq"
      },
      "source": [
        "### Create Node List\n"
      ]
    },
    {
      "cell_type": "code",
      "metadata": {
        "id": "lpef5RKvUu_w",
        "colab": {
          "base_uri": "https://localhost:8080/",
          "height": 419
        },
        "outputId": "d6f4e0cf-d437-4c58-8624-2ea1114345fc"
      },
      "source": [
        "word_nodes = pd.DataFrame.from_dict(unique_words,orient=\"index\")\n",
        "word_nodes.reset_index(inplace=True)\n",
        "word_nodes[\"Label\"] = word_nodes[\"index\"]\n",
        "word_nodes.rename(columns={\"index\":\"Id\",0:\"delete\"},inplace=True)\n",
        "word_nodes = word_nodes.drop(columns=['delete'])\n",
        "\n",
        "word_nodes"
      ],
      "execution_count": null,
      "outputs": [
        {
          "output_type": "execute_result",
          "data": {
            "text/html": [
              "<div>\n",
              "<style scoped>\n",
              "    .dataframe tbody tr th:only-of-type {\n",
              "        vertical-align: middle;\n",
              "    }\n",
              "\n",
              "    .dataframe tbody tr th {\n",
              "        vertical-align: top;\n",
              "    }\n",
              "\n",
              "    .dataframe thead th {\n",
              "        text-align: right;\n",
              "    }\n",
              "</style>\n",
              "<table border=\"1\" class=\"dataframe\">\n",
              "  <thead>\n",
              "    <tr style=\"text-align: right;\">\n",
              "      <th></th>\n",
              "      <th>Id</th>\n",
              "      <th>Label</th>\n",
              "    </tr>\n",
              "  </thead>\n",
              "  <tbody>\n",
              "    <tr>\n",
              "      <th>0</th>\n",
              "      <td>appreciate</td>\n",
              "      <td>appreciate</td>\n",
              "    </tr>\n",
              "    <tr>\n",
              "      <th>1</th>\n",
              "      <td>mos</td>\n",
              "      <td>mos</td>\n",
              "    </tr>\n",
              "    <tr>\n",
              "      <th>2</th>\n",
              "      <td>jis</td>\n",
              "      <td>jis</td>\n",
              "    </tr>\n",
              "    <tr>\n",
              "      <th>3</th>\n",
              "      <td>initiative</td>\n",
              "      <td>initiative</td>\n",
              "    </tr>\n",
              "    <tr>\n",
              "      <th>4</th>\n",
              "      <td>to</td>\n",
              "      <td>to</td>\n",
              "    </tr>\n",
              "    <tr>\n",
              "      <th>...</th>\n",
              "      <td>...</td>\n",
              "      <td>...</td>\n",
              "    </tr>\n",
              "    <tr>\n",
              "      <th>749</th>\n",
              "      <td>attention</td>\n",
              "      <td>attention</td>\n",
              "    </tr>\n",
              "    <tr>\n",
              "      <th>750</th>\n",
              "      <td>science</td>\n",
              "      <td>science</td>\n",
              "    </tr>\n",
              "    <tr>\n",
              "      <th>751</th>\n",
              "      <td>ya</td>\n",
              "      <td>ya</td>\n",
              "    </tr>\n",
              "    <tr>\n",
              "      <th>752</th>\n",
              "      <td>else</td>\n",
              "      <td>else</td>\n",
              "    </tr>\n",
              "    <tr>\n",
              "      <th>753</th>\n",
              "      <td>pr…</td>\n",
              "      <td>pr…</td>\n",
              "    </tr>\n",
              "  </tbody>\n",
              "</table>\n",
              "<p>754 rows × 2 columns</p>\n",
              "</div>"
            ],
            "text/plain": [
              "             Id       Label\n",
              "0    appreciate  appreciate\n",
              "1           mos         mos\n",
              "2           jis         jis\n",
              "3    initiative  initiative\n",
              "4            to          to\n",
              "..          ...         ...\n",
              "749   attention   attention\n",
              "750     science     science\n",
              "751          ya          ya\n",
              "752        else        else\n",
              "753         pr…         pr…\n",
              "\n",
              "[754 rows x 2 columns]"
            ]
          },
          "metadata": {},
          "execution_count": 41
        }
      ]
    },
    {
      "cell_type": "code",
      "metadata": {
        "id": "ZMdIcS4my8Ks",
        "colab": {
          "base_uri": "https://localhost:8080/",
          "height": 1000
        },
        "outputId": "b340326b-e7cc-40e5-db67-f934e70f808a"
      },
      "source": [
        "hashtag_nodes = uh_df.copy()\n",
        "hashtag_nodes[\"Label\"] = hashtag_nodes[\"Hashtag\"]\n",
        "hashtag_nodes.rename(columns={\"Hashtag\":\"Id\"},inplace=True)\n",
        "hashtag_nodes = hashtag_nodes.drop(columns=['Count'])\n",
        "hashtag_nodes"
      ],
      "execution_count": null,
      "outputs": [
        {
          "output_type": "execute_result",
          "data": {
            "text/html": [
              "<div>\n",
              "<style scoped>\n",
              "    .dataframe tbody tr th:only-of-type {\n",
              "        vertical-align: middle;\n",
              "    }\n",
              "\n",
              "    .dataframe tbody tr th {\n",
              "        vertical-align: top;\n",
              "    }\n",
              "\n",
              "    .dataframe thead th {\n",
              "        text-align: right;\n",
              "    }\n",
              "</style>\n",
              "<table border=\"1\" class=\"dataframe\">\n",
              "  <thead>\n",
              "    <tr style=\"text-align: right;\">\n",
              "      <th></th>\n",
              "      <th>Id</th>\n",
              "      <th>Label</th>\n",
              "    </tr>\n",
              "  </thead>\n",
              "  <tbody>\n",
              "    <tr>\n",
              "      <th>3</th>\n",
              "      <td>#COVID19</td>\n",
              "      <td>#COVID19</td>\n",
              "    </tr>\n",
              "    <tr>\n",
              "      <th>2</th>\n",
              "      <td>#Covid19</td>\n",
              "      <td>#Covid19</td>\n",
              "    </tr>\n",
              "    <tr>\n",
              "      <th>20</th>\n",
              "      <td>#Vaccine</td>\n",
              "      <td>#Vaccine</td>\n",
              "    </tr>\n",
              "    <tr>\n",
              "      <th>22</th>\n",
              "      <td>#CCP</td>\n",
              "      <td>#CCP</td>\n",
              "    </tr>\n",
              "    <tr>\n",
              "      <th>25</th>\n",
              "      <td>#covid19</td>\n",
              "      <td>#covid19</td>\n",
              "    </tr>\n",
              "    <tr>\n",
              "      <th>1</th>\n",
              "      <td>#GetVaccinated</td>\n",
              "      <td>#GetVaccinated</td>\n",
              "    </tr>\n",
              "    <tr>\n",
              "      <th>9</th>\n",
              "      <td>#auspol</td>\n",
              "      <td>#auspol</td>\n",
              "    </tr>\n",
              "    <tr>\n",
              "      <th>30</th>\n",
              "      <td>#AI</td>\n",
              "      <td>#AI</td>\n",
              "    </tr>\n",
              "    <tr>\n",
              "      <th>31</th>\n",
              "      <td>#leadership</td>\n",
              "      <td>#leadership</td>\n",
              "    </tr>\n",
              "    <tr>\n",
              "      <th>26</th>\n",
              "      <td>#abstract</td>\n",
              "      <td>#abstract</td>\n",
              "    </tr>\n",
              "    <tr>\n",
              "      <th>27</th>\n",
              "      <td>#art</td>\n",
              "      <td>#art</td>\n",
              "    </tr>\n",
              "    <tr>\n",
              "      <th>28</th>\n",
              "      <td>#loose</td>\n",
              "      <td>#loose</td>\n",
              "    </tr>\n",
              "    <tr>\n",
              "      <th>29</th>\n",
              "      <td>#vaccines</td>\n",
              "      <td>#vaccines</td>\n",
              "    </tr>\n",
              "    <tr>\n",
              "      <th>0</th>\n",
              "      <td>#HarGharDastak</td>\n",
              "      <td>#HarGharDastak</td>\n",
              "    </tr>\n",
              "    <tr>\n",
              "      <th>32</th>\n",
              "      <td>#GeniouxMG</td>\n",
              "      <td>#GeniouxMG</td>\n",
              "    </tr>\n",
              "    <tr>\n",
              "      <th>24</th>\n",
              "      <td>#stayhome</td>\n",
              "      <td>#stayhome</td>\n",
              "    </tr>\n",
              "    <tr>\n",
              "      <th>34</th>\n",
              "      <td>#Growth</td>\n",
              "      <td>#Growth</td>\n",
              "    </tr>\n",
              "    <tr>\n",
              "      <th>35</th>\n",
              "      <td>#treasure</td>\n",
              "      <td>#treasure</td>\n",
              "    </tr>\n",
              "    <tr>\n",
              "      <th>36</th>\n",
              "      <td>#GK</td>\n",
              "      <td>#GK</td>\n",
              "    </tr>\n",
              "    <tr>\n",
              "      <th>37</th>\n",
              "      <td>#GKPath</td>\n",
              "      <td>#GKPath</td>\n",
              "    </tr>\n",
              "    <tr>\n",
              "      <th>38</th>\n",
              "      <td>#PDT</td>\n",
              "      <td>#PDT</td>\n",
              "    </tr>\n",
              "    <tr>\n",
              "      <th>39</th>\n",
              "      <td>#DT</td>\n",
              "      <td>#DT</td>\n",
              "    </tr>\n",
              "    <tr>\n",
              "      <th>40</th>\n",
              "      <td>#GetVaccinatedNow</td>\n",
              "      <td>#GetVaccinatedNow</td>\n",
              "    </tr>\n",
              "    <tr>\n",
              "      <th>33</th>\n",
              "      <td>#learning</td>\n",
              "      <td>#learning</td>\n",
              "    </tr>\n",
              "    <tr>\n",
              "      <th>21</th>\n",
              "      <td>#Unite2FightCorona</td>\n",
              "      <td>#Unite2FightCorona</td>\n",
              "    </tr>\n",
              "    <tr>\n",
              "      <th>23</th>\n",
              "      <td>#armyoflovers</td>\n",
              "      <td>#armyoflovers</td>\n",
              "    </tr>\n",
              "    <tr>\n",
              "      <th>11</th>\n",
              "      <td>#Coronavirus</td>\n",
              "      <td>#Coronavirus</td>\n",
              "    </tr>\n",
              "    <tr>\n",
              "      <th>4</th>\n",
              "      <td>#Britain</td>\n",
              "      <td>#Britain</td>\n",
              "    </tr>\n",
              "    <tr>\n",
              "      <th>5</th>\n",
              "      <td>#brexit</td>\n",
              "      <td>#brexit</td>\n",
              "    </tr>\n",
              "    <tr>\n",
              "      <th>6</th>\n",
              "      <td>#BorisHasFailedBritain</td>\n",
              "      <td>#BorisHasFailedBritain</td>\n",
              "    </tr>\n",
              "    <tr>\n",
              "      <th>7</th>\n",
              "      <td>#BorisJohnson</td>\n",
              "      <td>#BorisJohnson</td>\n",
              "    </tr>\n",
              "    <tr>\n",
              "      <th>8</th>\n",
              "      <td>#FennaTugemebwe</td>\n",
              "      <td>#FennaTugemebwe</td>\n",
              "    </tr>\n",
              "    <tr>\n",
              "      <th>10</th>\n",
              "      <td>#insiders</td>\n",
              "      <td>#insiders</td>\n",
              "    </tr>\n",
              "    <tr>\n",
              "      <th>12</th>\n",
              "      <td>#leronlimab</td>\n",
              "      <td>#leronlimab</td>\n",
              "    </tr>\n",
              "    <tr>\n",
              "      <th>19</th>\n",
              "      <td>#VaccineCentury</td>\n",
              "      <td>#VaccineCentury</td>\n",
              "    </tr>\n",
              "    <tr>\n",
              "      <th>13</th>\n",
              "      <td>#zyesami</td>\n",
              "      <td>#zyesami</td>\n",
              "    </tr>\n",
              "    <tr>\n",
              "      <th>14</th>\n",
              "      <td>#vaccinated</td>\n",
              "      <td>#vaccinated</td>\n",
              "    </tr>\n",
              "    <tr>\n",
              "      <th>15</th>\n",
              "      <td>#VaccinePassports</td>\n",
              "      <td>#VaccinePassports</td>\n",
              "    </tr>\n",
              "    <tr>\n",
              "      <th>16</th>\n",
              "      <td>#Covid_19</td>\n",
              "      <td>#Covid_19</td>\n",
              "    </tr>\n",
              "    <tr>\n",
              "      <th>17</th>\n",
              "      <td>#HoldTheLine</td>\n",
              "      <td>#HoldTheLine</td>\n",
              "    </tr>\n",
              "    <tr>\n",
              "      <th>18</th>\n",
              "      <td>#vaccination</td>\n",
              "      <td>#vaccination</td>\n",
              "    </tr>\n",
              "    <tr>\n",
              "      <th>41</th>\n",
              "      <td>#Companies</td>\n",
              "      <td>#Companies</td>\n",
              "    </tr>\n",
              "  </tbody>\n",
              "</table>\n",
              "</div>"
            ],
            "text/plain": [
              "                        Id                   Label\n",
              "3                 #COVID19                #COVID19\n",
              "2                 #Covid19                #Covid19\n",
              "20                #Vaccine                #Vaccine\n",
              "22                    #CCP                    #CCP\n",
              "25                #covid19                #covid19\n",
              "1           #GetVaccinated          #GetVaccinated\n",
              "9                  #auspol                 #auspol\n",
              "30                     #AI                     #AI\n",
              "31             #leadership             #leadership\n",
              "26               #abstract               #abstract\n",
              "27                    #art                    #art\n",
              "28                  #loose                  #loose\n",
              "29               #vaccines               #vaccines\n",
              "0           #HarGharDastak          #HarGharDastak\n",
              "32              #GeniouxMG              #GeniouxMG\n",
              "24               #stayhome               #stayhome\n",
              "34                 #Growth                 #Growth\n",
              "35               #treasure               #treasure\n",
              "36                     #GK                     #GK\n",
              "37                 #GKPath                 #GKPath\n",
              "38                    #PDT                    #PDT\n",
              "39                     #DT                     #DT\n",
              "40       #GetVaccinatedNow       #GetVaccinatedNow\n",
              "33               #learning               #learning\n",
              "21      #Unite2FightCorona      #Unite2FightCorona\n",
              "23           #armyoflovers           #armyoflovers\n",
              "11            #Coronavirus            #Coronavirus\n",
              "4                 #Britain                #Britain\n",
              "5                  #brexit                 #brexit\n",
              "6   #BorisHasFailedBritain  #BorisHasFailedBritain\n",
              "7            #BorisJohnson           #BorisJohnson\n",
              "8          #FennaTugemebwe         #FennaTugemebwe\n",
              "10               #insiders               #insiders\n",
              "12             #leronlimab             #leronlimab\n",
              "19         #VaccineCentury         #VaccineCentury\n",
              "13                #zyesami                #zyesami\n",
              "14             #vaccinated             #vaccinated\n",
              "15       #VaccinePassports       #VaccinePassports\n",
              "16               #Covid_19               #Covid_19\n",
              "17            #HoldTheLine            #HoldTheLine\n",
              "18            #vaccination            #vaccination\n",
              "41              #Companies              #Companies"
            ]
          },
          "metadata": {},
          "execution_count": 42
        }
      ]
    },
    {
      "cell_type": "markdown",
      "metadata": {
        "id": "BHZHIG18ye0F"
      },
      "source": [
        "#### SAVE NODELIST"
      ]
    },
    {
      "cell_type": "code",
      "metadata": {
        "id": "PpE0P0cIU2OD"
      },
      "source": [
        "nodelist = hashtag_nodes.append(word_nodes, ignore_index=True)\n",
        "\n",
        "nodelist.to_csv(\"nodelist.csv\",index=False)"
      ],
      "execution_count": null,
      "outputs": []
    },
    {
      "cell_type": "markdown",
      "metadata": {
        "id": "ryR3LiMVB-70"
      },
      "source": [
        "Tasks: \n",
        "\n",
        "*   Extract username of user who posted the tweet into a column \"screen_name\". Follow the procedure we used to get the hashtags.\n",
        "*   Create a network of users using the mention relation. Is this a directed or undirected graph?\n",
        "*   We created a network where nodes are mixed (both words and hashtags). Create network of words only and one of hashtags only.\n",
        "* Pick one of these network and rank the nodes using PageRank centrality. Extract information about top-20 rated nodes.\n",
        "\n",
        "\n",
        "\n"
      ]
    },
    {
      "cell_type": "code",
      "metadata": {
        "colab": {
          "base_uri": "https://localhost:8080/",
          "height": 35
        },
        "id": "tzqNCgVpaRkg",
        "outputId": "b7744519-d8cf-4add-9622-192f49b918ac"
      },
      "source": [
        "tweets_filtered['user'][0]['name']"
      ],
      "execution_count": null,
      "outputs": [
        {
          "output_type": "execute_result",
          "data": {
            "application/vnd.google.colaboratory.intrinsic+json": {
              "type": "string"
            },
            "text/plain": [
              "'G SANKAR'"
            ]
          },
          "metadata": {},
          "execution_count": 54
        }
      ]
    },
    {
      "cell_type": "code",
      "metadata": {
        "colab": {
          "base_uri": "https://localhost:8080/",
          "height": 231
        },
        "id": "Jod7jH36ZHlD",
        "outputId": "dd7828a6-d6e2-4dde-fafd-7d67c4871ab0"
      },
      "source": [
        "# Extract username\n",
        "\n",
        "unique_username = {}\n",
        "\n",
        "tweets_filtered[\"screen_name\"] = \"\"\n",
        "\n",
        "for idx, row in tweets_filtered.iterrows():\n",
        "  username_list = []\n",
        "  for username in row[\"user\"]:\n",
        "    unique_username.setdefault(username['name'], 0)\n",
        "    unique_username[username['name']] += 1\n",
        "    username_list.append(username['name'])\n",
        "  tweets_filtered.at[idx,\"screen_name\"] = username_list\n",
        "\n",
        "\n",
        "# Unique username dataframe\n",
        "uh_df = pd.DataFrame.from_dict(unique_username, orient='index').reset_index()\n",
        "uh_df.rename(columns = {'index':'screen_name', 0:'Count'}, inplace=True)\n",
        "uh_df.sort_values(by=['Count'], ascending=False, inplace=True)"
      ],
      "execution_count": null,
      "outputs": [
        {
          "output_type": "error",
          "ename": "TypeError",
          "evalue": "ignored",
          "traceback": [
            "\u001b[0;31m---------------------------------------------------------------------------\u001b[0m",
            "\u001b[0;31mTypeError\u001b[0m                                 Traceback (most recent call last)",
            "\u001b[0;32m<ipython-input-57-717629e06920>\u001b[0m in \u001b[0;36m<module>\u001b[0;34m()\u001b[0m\n\u001b[1;32m      8\u001b[0m   \u001b[0musername_list\u001b[0m \u001b[0;34m=\u001b[0m \u001b[0;34m[\u001b[0m\u001b[0;34m]\u001b[0m\u001b[0;34m\u001b[0m\u001b[0;34m\u001b[0m\u001b[0m\n\u001b[1;32m      9\u001b[0m   \u001b[0;32mfor\u001b[0m \u001b[0musername\u001b[0m \u001b[0;32min\u001b[0m \u001b[0mrow\u001b[0m\u001b[0;34m[\u001b[0m\u001b[0;34m\"user\"\u001b[0m\u001b[0;34m]\u001b[0m\u001b[0;34m:\u001b[0m\u001b[0;34m\u001b[0m\u001b[0;34m\u001b[0m\u001b[0m\n\u001b[0;32m---> 10\u001b[0;31m     \u001b[0munique_username\u001b[0m\u001b[0;34m.\u001b[0m\u001b[0msetdefault\u001b[0m\u001b[0;34m(\u001b[0m\u001b[0musername\u001b[0m\u001b[0;34m[\u001b[0m\u001b[0;34m'name'\u001b[0m\u001b[0;34m]\u001b[0m\u001b[0;34m,\u001b[0m \u001b[0;36m0\u001b[0m\u001b[0;34m)\u001b[0m\u001b[0;34m\u001b[0m\u001b[0;34m\u001b[0m\u001b[0m\n\u001b[0m\u001b[1;32m     11\u001b[0m     \u001b[0munique_username\u001b[0m\u001b[0;34m[\u001b[0m\u001b[0musername\u001b[0m\u001b[0;34m[\u001b[0m\u001b[0;34m'name'\u001b[0m\u001b[0;34m]\u001b[0m\u001b[0;34m]\u001b[0m \u001b[0;34m+=\u001b[0m \u001b[0;36m1\u001b[0m\u001b[0;34m\u001b[0m\u001b[0;34m\u001b[0m\u001b[0m\n\u001b[1;32m     12\u001b[0m     \u001b[0musername_list\u001b[0m\u001b[0;34m.\u001b[0m\u001b[0mappend\u001b[0m\u001b[0;34m(\u001b[0m\u001b[0musername\u001b[0m\u001b[0;34m[\u001b[0m\u001b[0;34m'name'\u001b[0m\u001b[0;34m]\u001b[0m\u001b[0;34m)\u001b[0m\u001b[0;34m\u001b[0m\u001b[0;34m\u001b[0m\u001b[0m\n",
            "\u001b[0;31mTypeError\u001b[0m: string indices must be integers"
          ]
        }
      ]
    },
    {
      "cell_type": "code",
      "metadata": {
        "id": "JBqKN9Pjbogj"
      },
      "source": [],
      "execution_count": null,
      "outputs": []
    }
  ]
}